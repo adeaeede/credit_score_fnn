{
 "cells": [
  {
   "cell_type": "code",
   "execution_count": 208,
   "metadata": {},
   "outputs": [],
   "source": [
    "from keras.models import Sequential\n",
    "from keras.layers import Dense, Activation, BatchNormalization, Dropout\n",
    "from keras.optimizers import Adam, SGD\n",
    "from keras.losses import binary_crossentropy\n",
    "from sklearn.preprocessing import LabelEncoder, MinMaxScaler\n",
    "import numpy as np\n",
    "import matplotlib.pyplot as plt"
   ]
  },
  {
   "cell_type": "code",
   "execution_count": 163,
   "metadata": {},
   "outputs": [],
   "source": [
    "data_train = np.loadtxt('training.txt', delimiter=' ', dtype=np.str, usecols=(0,1,3,4,6,7), skiprows=1)\n",
    "data_test = np.loadtxt('testing.txt', delimiter=' ', dtype=np.str, usecols=(0,1,3,4,6,7), skiprows=1)"
   ]
  },
  {
   "cell_type": "code",
   "execution_count": 164,
   "metadata": {},
   "outputs": [],
   "source": [
    "data_train_num = np.loadtxt('training.txt', delimiter=' ', dtype=np.int, usecols=(2,5), skiprows=1)\n",
    "data_test_num = np.loadtxt('testing.txt', delimiter=' ', dtype=np.int, usecols=(2,5), skiprows=1)"
   ]
  },
  {
   "cell_type": "code",
   "execution_count": 165,
   "metadata": {
    "scrolled": true
   },
   "outputs": [],
   "source": [
    "data_train = np.array(data_train)\n",
    "data_test = np.array(data_test)"
   ]
  },
  {
   "cell_type": "code",
   "execution_count": 166,
   "metadata": {},
   "outputs": [],
   "source": [
    "x_train = data_train[:,1:]\n",
    "y_train = data_train[:,0]"
   ]
  },
  {
   "cell_type": "code",
   "execution_count": 167,
   "metadata": {},
   "outputs": [],
   "source": [
    "x_test = data_test[:,1:]\n",
    "y_test = data_test[:,0]"
   ]
  },
  {
   "cell_type": "code",
   "execution_count": 168,
   "metadata": {},
   "outputs": [
    {
     "name": "stdout",
     "output_type": "stream",
     "text": [
      "(702, 5)\n",
      "(702, 2)\n"
     ]
    }
   ],
   "source": [
    "print(x_train.shape)\n",
    "print(data_train_num.shape)"
   ]
  },
  {
   "cell_type": "code",
   "execution_count": 169,
   "metadata": {},
   "outputs": [],
   "source": [
    "scaler = MinMaxScaler()\n",
    "data_train_num = scaler.fit_transform(data_train_num)\n",
    "data_test_num = scaler.fit_transform(data_test_num)"
   ]
  },
  {
   "cell_type": "code",
   "execution_count": 170,
   "metadata": {
    "scrolled": true
   },
   "outputs": [
    {
     "data": {
      "text/plain": [
       "{'\"bad.running\"': 1.8996225914654594,\n",
       " '\"good.running\"': 0.06244450354936972,\n",
       " '\"no\"': 0.7671236672008535,\n",
       " '\"pre.bad\"': 0.3921024039414662,\n",
       " '\"pre.good\"': 0.46369680500161103,\n",
       " '\"personal\"': 0.09850086553642916,\n",
       " '\"professional\"': 0.20266201135793419,\n",
       " '\"man\"': 0.10434537968921274,\n",
       " '\"woman\"': 0.6810503154808134,\n",
       " '\"alone\"': 0.6072719392732269,\n",
       " '\"not.alone\"': 0.8949613433881393}"
      ]
     },
     "execution_count": 170,
     "metadata": {},
     "output_type": "execute_result"
    }
   ],
   "source": [
    "categories = [list(np.unique(x_train[:,i])) for i in range(x_train.shape[1])]\n",
    "a = dict()\n",
    "for category in categories:\n",
    "    for c in category:\n",
    "        a[c] = np.abs(np.random.normal(0,1))\n",
    "a"
   ]
  },
  {
   "cell_type": "code",
   "execution_count": 171,
   "metadata": {},
   "outputs": [],
   "source": [
    "def prepare_input(X):\n",
    "    X_enc = np.ones((X.shape[0], X.shape[1]))\n",
    "    for i in range(X.shape[1]):\n",
    "        for key, value in a.items():\n",
    "            mask = np.where(X[:,i] == key)\n",
    "            X_enc[mask,i] = value\n",
    "    return X_enc"
   ]
  },
  {
   "cell_type": "code",
   "execution_count": 172,
   "metadata": {},
   "outputs": [],
   "source": [
    "# prepare target\n",
    "def prepare_targets(y_train, y_test):\n",
    "    le = LabelEncoder()\n",
    "    le.fit(y_train)\n",
    "    y_train_enc = le.transform(y_train)\n",
    "    y_test_enc = le.transform(y_test)\n",
    "    return y_train_enc, y_test_enc"
   ]
  },
  {
   "cell_type": "code",
   "execution_count": 173,
   "metadata": {},
   "outputs": [],
   "source": [
    "X_train_enc = prepare_input(x_train)\n",
    "X_test_enc = prepare_input(x_test)\n",
    "y_train_enc, y_test_enc = prepare_targets(y_train, y_test)"
   ]
  },
  {
   "cell_type": "code",
   "execution_count": 174,
   "metadata": {},
   "outputs": [
    {
     "name": "stdout",
     "output_type": "stream",
     "text": [
      "(702, 5)\n",
      "(702, 2)\n"
     ]
    }
   ],
   "source": [
    "print(X_train_enc.shape)\n",
    "print(data_train_num.shape)"
   ]
  },
  {
   "cell_type": "code",
   "execution_count": 175,
   "metadata": {},
   "outputs": [],
   "source": [
    "X_train_enc = np.column_stack((X_train_enc,data_train_num))\n",
    "X_test_enc =  np.column_stack((X_test_enc,data_test_num))"
   ]
  },
  {
   "cell_type": "code",
   "execution_count": 176,
   "metadata": {},
   "outputs": [
    {
     "name": "stdout",
     "output_type": "stream",
     "text": [
      "(702, 7)\n",
      "(298, 7)\n"
     ]
    }
   ],
   "source": [
    "print(X_train_enc.shape)\n",
    "print(X_test_enc.shape)"
   ]
  },
  {
   "cell_type": "code",
   "execution_count": 196,
   "metadata": {},
   "outputs": [],
   "source": [
    "model = Sequential([\n",
    "    Dense(64, kernel_initializer='glorot_normal'),\n",
    "    BatchNormalization(),\n",
    "    Activation('relu'),\n",
    "    Dropout(0,2),\n",
    "    Dense(256, kernel_initializer='glorot_normal'),\n",
    "    BatchNormalization(),\n",
    "    Activation('relu'),\n",
    "    Dropout(0,2),\n",
    "    Dense(256, kernel_initializer='glorot_normal'),\n",
    "    BatchNormalization(),\n",
    "    Activation('relu'),\n",
    "    Dropout(0,2),\n",
    "    Dense(32, kernel_initializer='glorot_normal'),\n",
    "    BatchNormalization(),\n",
    "    Activation('relu'),\n",
    "    Dropout(0,2),\n",
    "    Dense(1, activation='sigmoid')\n",
    "])"
   ]
  },
  {
   "cell_type": "code",
   "execution_count": null,
   "metadata": {},
   "outputs": [],
   "source": [
    "sgd = optimizers.SGD(lr=0.01, momentum=0.2)"
   ]
  },
  {
   "cell_type": "code",
   "execution_count": 197,
   "metadata": {},
   "outputs": [],
   "source": [
    "model.compile(loss='binary_crossentropy',\n",
    "              optimizer=SGD(),\n",
    "              metrics=['accuracy'])"
   ]
  },
  {
   "cell_type": "code",
   "execution_count": 205,
   "metadata": {},
   "outputs": [
    {
     "name": "stdout",
     "output_type": "stream",
     "text": [
      "Train on 702 samples, validate on 298 samples\n",
      "Epoch 1/60\n",
      "702/702 [==============================] - 0s 161us/step - loss: 0.2321 - acc: 0.8932 - val_loss: 1.1603 - val_acc: 0.6644\n",
      "Epoch 2/60\n",
      "702/702 [==============================] - 0s 87us/step - loss: 0.2201 - acc: 0.9074 - val_loss: 1.1668 - val_acc: 0.6544\n",
      "Epoch 3/60\n",
      "702/702 [==============================] - 0s 93us/step - loss: 0.2118 - acc: 0.9003 - val_loss: 1.1520 - val_acc: 0.6443\n",
      "Epoch 4/60\n",
      "702/702 [==============================] - 0s 86us/step - loss: 0.2180 - acc: 0.9074 - val_loss: 1.1330 - val_acc: 0.6376\n",
      "Epoch 5/60\n",
      "702/702 [==============================] - 0s 97us/step - loss: 0.2086 - acc: 0.9074 - val_loss: 1.1246 - val_acc: 0.6510\n",
      "Epoch 6/60\n",
      "702/702 [==============================] - 0s 84us/step - loss: 0.2035 - acc: 0.9017 - val_loss: 1.1437 - val_acc: 0.6477\n",
      "Epoch 7/60\n",
      "702/702 [==============================] - 0s 115us/step - loss: 0.2052 - acc: 0.9131 - val_loss: 1.1824 - val_acc: 0.6577\n",
      "Epoch 8/60\n",
      "702/702 [==============================] - 0s 78us/step - loss: 0.2141 - acc: 0.8960 - val_loss: 1.1572 - val_acc: 0.6477\n",
      "Epoch 9/60\n",
      "702/702 [==============================] - 0s 88us/step - loss: 0.2235 - acc: 0.8974 - val_loss: 1.1294 - val_acc: 0.6376\n",
      "Epoch 10/60\n",
      "702/702 [==============================] - 0s 84us/step - loss: 0.2144 - acc: 0.8946 - val_loss: 1.1710 - val_acc: 0.6376\n",
      "Epoch 11/60\n",
      "702/702 [==============================] - 0s 64us/step - loss: 0.2057 - acc: 0.9060 - val_loss: 1.2462 - val_acc: 0.6577\n",
      "Epoch 12/60\n",
      "702/702 [==============================] - 0s 66us/step - loss: 0.2087 - acc: 0.9088 - val_loss: 1.2380 - val_acc: 0.6544\n",
      "Epoch 13/60\n",
      "702/702 [==============================] - 0s 87us/step - loss: 0.2075 - acc: 0.9017 - val_loss: 1.1840 - val_acc: 0.6409\n",
      "Epoch 14/60\n",
      "702/702 [==============================] - 0s 100us/step - loss: 0.2099 - acc: 0.9074 - val_loss: 1.1683 - val_acc: 0.6477\n",
      "Epoch 15/60\n",
      "702/702 [==============================] - 0s 93us/step - loss: 0.2011 - acc: 0.8974 - val_loss: 1.1761 - val_acc: 0.6342\n",
      "Epoch 16/60\n",
      "702/702 [==============================] - 0s 99us/step - loss: 0.2095 - acc: 0.9046 - val_loss: 1.2054 - val_acc: 0.6477\n",
      "Epoch 17/60\n",
      "702/702 [==============================] - 0s 89us/step - loss: 0.2028 - acc: 0.9117 - val_loss: 1.1942 - val_acc: 0.6611\n",
      "Epoch 18/60\n",
      "702/702 [==============================] - 0s 76us/step - loss: 0.1989 - acc: 0.9117 - val_loss: 1.1604 - val_acc: 0.6644\n",
      "Epoch 19/60\n",
      "702/702 [==============================] - 0s 91us/step - loss: 0.1859 - acc: 0.9160 - val_loss: 1.1707 - val_acc: 0.6678\n",
      "Epoch 20/60\n",
      "702/702 [==============================] - 0s 81us/step - loss: 0.1873 - acc: 0.9217 - val_loss: 1.1923 - val_acc: 0.6577\n",
      "Epoch 21/60\n",
      "702/702 [==============================] - 0s 87us/step - loss: 0.2161 - acc: 0.8903 - val_loss: 1.2192 - val_acc: 0.6611\n",
      "Epoch 22/60\n",
      "702/702 [==============================] - 0s 66us/step - loss: 0.2068 - acc: 0.9117 - val_loss: 1.1985 - val_acc: 0.6477\n",
      "Epoch 23/60\n",
      "702/702 [==============================] - 0s 86us/step - loss: 0.2010 - acc: 0.9031 - val_loss: 1.1734 - val_acc: 0.6577\n",
      "Epoch 24/60\n",
      "702/702 [==============================] - 0s 92us/step - loss: 0.1941 - acc: 0.9174 - val_loss: 1.1896 - val_acc: 0.6611\n",
      "Epoch 25/60\n",
      "702/702 [==============================] - 0s 92us/step - loss: 0.1873 - acc: 0.9231 - val_loss: 1.2097 - val_acc: 0.6644\n",
      "Epoch 26/60\n",
      "702/702 [==============================] - 0s 100us/step - loss: 0.2045 - acc: 0.9046 - val_loss: 1.2801 - val_acc: 0.6644\n",
      "Epoch 27/60\n",
      "702/702 [==============================] - 0s 85us/step - loss: 0.2030 - acc: 0.9017 - val_loss: 1.2936 - val_acc: 0.6510\n",
      "Epoch 28/60\n",
      "702/702 [==============================] - 0s 94us/step - loss: 0.1912 - acc: 0.9117 - val_loss: 1.2612 - val_acc: 0.6577\n",
      "Epoch 29/60\n",
      "702/702 [==============================] - 0s 86us/step - loss: 0.1892 - acc: 0.9202 - val_loss: 1.2144 - val_acc: 0.6745\n",
      "Epoch 30/60\n",
      "702/702 [==============================] - 0s 81us/step - loss: 0.2081 - acc: 0.9031 - val_loss: 1.2746 - val_acc: 0.6544\n",
      "Epoch 31/60\n",
      "702/702 [==============================] - 0s 90us/step - loss: 0.1968 - acc: 0.9088 - val_loss: 1.4553 - val_acc: 0.6711\n",
      "Epoch 32/60\n",
      "702/702 [==============================] - 0s 88us/step - loss: 0.1949 - acc: 0.9088 - val_loss: 1.4350 - val_acc: 0.6644\n",
      "Epoch 33/60\n",
      "702/702 [==============================] - 0s 90us/step - loss: 0.2087 - acc: 0.9088 - val_loss: 1.3474 - val_acc: 0.6577\n",
      "Epoch 34/60\n",
      "702/702 [==============================] - 0s 91us/step - loss: 0.2101 - acc: 0.8875 - val_loss: 1.3320 - val_acc: 0.6544\n",
      "Epoch 35/60\n",
      "702/702 [==============================] - 0s 80us/step - loss: 0.2042 - acc: 0.8989 - val_loss: 1.3594 - val_acc: 0.6544\n",
      "Epoch 36/60\n",
      "702/702 [==============================] - 0s 85us/step - loss: 0.1919 - acc: 0.9145 - val_loss: 1.3109 - val_acc: 0.6510\n",
      "Epoch 37/60\n",
      "702/702 [==============================] - 0s 88us/step - loss: 0.1903 - acc: 0.9145 - val_loss: 1.3486 - val_acc: 0.6611\n",
      "Epoch 38/60\n",
      "702/702 [==============================] - 0s 77us/step - loss: 0.1913 - acc: 0.9145 - val_loss: 1.3713 - val_acc: 0.6577\n",
      "Epoch 39/60\n",
      "702/702 [==============================] - 0s 64us/step - loss: 0.1983 - acc: 0.9031 - val_loss: 1.3893 - val_acc: 0.6477\n",
      "Epoch 40/60\n",
      "702/702 [==============================] - 0s 64us/step - loss: 0.1811 - acc: 0.9160 - val_loss: 1.3493 - val_acc: 0.6577\n",
      "Epoch 41/60\n",
      "702/702 [==============================] - 0s 60us/step - loss: 0.2027 - acc: 0.9031 - val_loss: 1.3863 - val_acc: 0.6544\n",
      "Epoch 42/60\n",
      "702/702 [==============================] - 0s 59us/step - loss: 0.1846 - acc: 0.9174 - val_loss: 1.4470 - val_acc: 0.6443\n",
      "Epoch 43/60\n",
      "702/702 [==============================] - 0s 64us/step - loss: 0.1909 - acc: 0.9103 - val_loss: 1.4439 - val_acc: 0.6711\n",
      "Epoch 44/60\n",
      "702/702 [==============================] - 0s 65us/step - loss: 0.2035 - acc: 0.9060 - val_loss: 1.4370 - val_acc: 0.6711\n",
      "Epoch 45/60\n",
      "702/702 [==============================] - 0s 67us/step - loss: 0.1885 - acc: 0.9188 - val_loss: 1.3327 - val_acc: 0.6779\n",
      "Epoch 46/60\n",
      "702/702 [==============================] - 0s 59us/step - loss: 0.2205 - acc: 0.8903 - val_loss: 1.3777 - val_acc: 0.6577\n",
      "Epoch 47/60\n",
      "702/702 [==============================] - 0s 69us/step - loss: 0.2028 - acc: 0.9103 - val_loss: 1.4754 - val_acc: 0.6644\n",
      "Epoch 48/60\n",
      "702/702 [==============================] - 0s 70us/step - loss: 0.1899 - acc: 0.9202 - val_loss: 1.4190 - val_acc: 0.6879\n",
      "Epoch 49/60\n",
      "702/702 [==============================] - 0s 82us/step - loss: 0.2030 - acc: 0.9017 - val_loss: 1.3465 - val_acc: 0.6711\n",
      "Epoch 50/60\n",
      "702/702 [==============================] - 0s 66us/step - loss: 0.1890 - acc: 0.9131 - val_loss: 1.4136 - val_acc: 0.6577\n",
      "Epoch 51/60\n",
      "702/702 [==============================] - 0s 66us/step - loss: 0.1818 - acc: 0.9231 - val_loss: 1.4446 - val_acc: 0.6510\n",
      "Epoch 52/60\n",
      "702/702 [==============================] - 0s 67us/step - loss: 0.1939 - acc: 0.9074 - val_loss: 1.4038 - val_acc: 0.6678\n",
      "Epoch 53/60\n",
      "702/702 [==============================] - 0s 65us/step - loss: 0.1854 - acc: 0.9131 - val_loss: 1.3663 - val_acc: 0.6510\n",
      "Epoch 54/60\n",
      "702/702 [==============================] - 0s 64us/step - loss: 0.1892 - acc: 0.9174 - val_loss: 1.3710 - val_acc: 0.6577\n",
      "Epoch 55/60\n",
      "702/702 [==============================] - 0s 57us/step - loss: 0.1942 - acc: 0.9046 - val_loss: 1.3483 - val_acc: 0.6745\n",
      "Epoch 56/60\n",
      "702/702 [==============================] - 0s 67us/step - loss: 0.1912 - acc: 0.9145 - val_loss: 1.3862 - val_acc: 0.6678\n",
      "Epoch 57/60\n",
      "702/702 [==============================] - 0s 73us/step - loss: 0.1863 - acc: 0.9202 - val_loss: 1.4287 - val_acc: 0.6376\n",
      "Epoch 58/60\n",
      "702/702 [==============================] - 0s 74us/step - loss: 0.1820 - acc: 0.9145 - val_loss: 1.4600 - val_acc: 0.6342\n",
      "Epoch 59/60\n",
      "702/702 [==============================] - 0s 89us/step - loss: 0.1888 - acc: 0.9117 - val_loss: 1.4607 - val_acc: 0.6544\n",
      "Epoch 60/60\n",
      "702/702 [==============================] - 0s 86us/step - loss: 0.1735 - acc: 0.9202 - val_loss: 1.4307 - val_acc: 0.6678\n"
     ]
    }
   ],
   "source": [
    "history = model.fit(X_train_enc, y_train_enc,\n",
    "          batch_size=128,\n",
    "          epochs=60,\n",
    "          validation_data=(X_test_enc, y_test_enc), verbose=1)"
   ]
  },
  {
   "cell_type": "code",
   "execution_count": 206,
   "metadata": {},
   "outputs": [
    {
     "data": {
      "text/plain": [
       "[<matplotlib.lines.Line2D at 0x13af9b510>]"
      ]
     },
     "execution_count": 206,
     "metadata": {},
     "output_type": "execute_result"
    },
    {
     "data": {
      "image/png": "[encoded data removed]",
      "text/plain": [
       "<Figure size 432x288 with 1 Axes>"
      ]
     },
     "metadata": {
      "needs_background": "light"
     },
     "output_type": "display_data"
    }
   ],
   "source": [
    "plt.plot(history.history['val_acc'])"
   ]
  },
  {
   "cell_type": "code",
   "execution_count": 207,
   "metadata": {},
   "outputs": [
    {
     "data": {
      "text/plain": [
       "[<matplotlib.lines.Line2D at 0x1395852d0>]"
      ]
     },
     "execution_count": 207,
     "metadata": {},
     "output_type": "execute_result"
    },
    {
     "data": {
      "image/png": "[encoded data removed]",
      "text/plain": [
       "<Figure size 432x288 with 1 Axes>"
      ]
     },
     "metadata": {
      "needs_background": "light"
     },
     "output_type": "display_data"
    }
   ],
   "source": [
    "plt.plot(history.history['loss'])"
   ]
  },
  {
   "cell_type": "code",
   "execution_count": null,
   "metadata": {},
   "outputs": [],
   "source": []
  }
 ],
 "metadata": {
  "kernelspec": {
   "display_name": "Python 3",
   "language": "python",
   "name": "python3"
  },
  "language_info": {
   "codemirror_mode": {
    "name": "ipython",
    "version": 3
   },
   "file_extension": ".py",
   "mimetype": "text/x-python",
   "name": "python",
   "nbconvert_exporter": "python",
   "pygments_lexer": "ipython3",
   "version": "3.7.6"
  }
 },
 "nbformat": 4,
 "nbformat_minor": 2
}
