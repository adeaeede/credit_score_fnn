{
 "cells": [
  {
   "cell_type": "code",
   "execution_count": 1,
   "metadata": {},
   "outputs": [
    {
     "name": "stderr",
     "output_type": "stream",
     "text": [
      "Using TensorFlow backend.\n"
     ]
    }
   ],
   "source": [
    "from keras.models import Sequential\n",
    "from keras.layers import Dense, Activation, BatchNormalization, Dropout\n",
    "from keras.optimizers import Adam\n",
    "from keras.losses import binary_crossentropy\n",
    "from sklearn.preprocessing import LabelEncoder, MinMaxScaler, OneHotEncoder\n",
    "import numpy as np\n",
    "import matplotlib.pyplot as plt"
   ]
  },
  {
   "cell_type": "markdown",
   "metadata": {},
   "source": [
    "# Import and clean data"
   ]
  },
  {
   "cell_type": "code",
   "execution_count": 2,
   "metadata": {},
   "outputs": [],
   "source": [
    "# Import data of type string from the train and test dataset \n",
    "data_train = np.loadtxt('training.txt', delimiter=' ', dtype=np.str, usecols=(0,1,3,4,6,7), skiprows=1)\n",
    "data_test = np.loadtxt('testing.txt', delimiter=' ', dtype=np.str, usecols=(0,1,3,4,6,7), skiprows=1)"
   ]
  },
  {
   "cell_type": "code",
   "execution_count": 3,
   "metadata": {},
   "outputs": [],
   "source": [
    "# Import numeric data from the train and test dataset\n",
    "data_train_num = np.loadtxt('training.txt', delimiter=' ', dtype=np.int, usecols=(2,5), skiprows=1)\n",
    "data_test_num = np.loadtxt('testing.txt', delimiter=' ', dtype=np.int, usecols=(2,5), skiprows=1)"
   ]
  },
  {
   "cell_type": "code",
   "execution_count": 4,
   "metadata": {},
   "outputs": [],
   "source": [
    "# Split x and y values\n",
    "x_train = data_train[:,1:]\n",
    "y_train = data_train[:,0]\n",
    "x_test = data_test[:,1:]\n",
    "y_test = data_test[:,0]"
   ]
  },
  {
   "cell_type": "code",
   "execution_count": 5,
   "metadata": {},
   "outputs": [],
   "source": [
    "# Normalize numeric values\n",
    "scaler = MinMaxScaler()\n",
    "data_train_num = scaler.fit_transform(data_train_num)\n",
    "data_test_num = scaler.fit_transform(data_test_num)"
   ]
  },
  {
   "cell_type": "code",
   "execution_count": 6,
   "metadata": {},
   "outputs": [],
   "source": [
    "# one hot encoding of categories\n",
    "def one_hot_enc(X):\n",
    "    ohe = OneHotEncoder()\n",
    "    ohe.fit(X)\n",
    "    return ohe.transform(X).toarray()"
   ]
  },
  {
   "cell_type": "code",
   "execution_count": 7,
   "metadata": {},
   "outputs": [],
   "source": [
    "# encode y values to binary\n",
    "def prepare_targets(y_train, y_test):\n",
    "    le = LabelEncoder()\n",
    "    le.fit(y_train)\n",
    "    y_train_enc = le.transform(y_train)\n",
    "    y_test_enc = le.transform(y_test)\n",
    "    return y_train_enc, y_test_enc"
   ]
  },
  {
   "cell_type": "code",
   "execution_count": 8,
   "metadata": {},
   "outputs": [],
   "source": [
    "X_train_enc = one_hot_enc(x_train)\n",
    "X_test_enc = one_hot_enc(x_test)\n",
    "y_train_enc, y_test_enc = prepare_targets(y_train, y_test)"
   ]
  },
  {
   "cell_type": "code",
   "execution_count": 9,
   "metadata": {},
   "outputs": [
    {
     "name": "stdout",
     "output_type": "stream",
     "text": [
      "(702, 11)\n",
      "(702, 2)\n"
     ]
    }
   ],
   "source": [
    "print(X_train_enc.shape)\n",
    "print(data_train_num.shape)"
   ]
  },
  {
   "cell_type": "code",
   "execution_count": 10,
   "metadata": {},
   "outputs": [],
   "source": [
    "# Stack the categorical and numerical data\n",
    "X_train_enc = np.column_stack((X_train_enc,data_train_num))\n",
    "X_test_enc =  np.column_stack((X_test_enc,data_test_num))"
   ]
  },
  {
   "cell_type": "code",
   "execution_count": 11,
   "metadata": {
    "scrolled": true
   },
   "outputs": [
    {
     "name": "stdout",
     "output_type": "stream",
     "text": [
      "(702, 13)\n",
      "(298, 13)\n"
     ]
    }
   ],
   "source": [
    "print(X_train_enc.shape)\n",
    "print(X_test_enc.shape)"
   ]
  },
  {
   "cell_type": "markdown",
   "metadata": {},
   "source": [
    "# NN model approach"
   ]
  },
  {
   "cell_type": "code",
   "execution_count": 12,
   "metadata": {},
   "outputs": [],
   "source": [
    "model = Sequential([\n",
    "    Dense(32, kernel_initializer='glorot_normal'),\n",
    "    BatchNormalization(),\n",
    "    Activation('relu'),\n",
    "    Dense(1, activation='sigmoid')\n",
    "])"
   ]
  },
  {
   "cell_type": "code",
   "execution_count": 13,
   "metadata": {},
   "outputs": [
    {
     "name": "stdout",
     "output_type": "stream",
     "text": [
      "WARNING:tensorflow:From /usr/local/lib/python3.7/site-packages/tensorflow/python/framework/op_def_library.py:263: colocate_with (from tensorflow.python.framework.ops) is deprecated and will be removed in a future version.\n",
      "Instructions for updating:\n",
      "Colocations handled automatically by placer.\n"
     ]
    }
   ],
   "source": [
    "model.compile(loss='binary_crossentropy',\n",
    "              optimizer='adam',\n",
    "              metrics=['accuracy'])"
   ]
  },
  {
   "cell_type": "markdown",
   "metadata": {},
   "source": [
    "##  Model training and model performance  evaluation"
   ]
  },
  {
   "cell_type": "code",
   "execution_count": 14,
   "metadata": {},
   "outputs": [
    {
     "name": "stdout",
     "output_type": "stream",
     "text": [
      "WARNING:tensorflow:From /usr/local/lib/python3.7/site-packages/tensorflow/python/ops/math_ops.py:3066: to_int32 (from tensorflow.python.ops.math_ops) is deprecated and will be removed in a future version.\n",
      "Instructions for updating:\n",
      "Use tf.cast instead.\n",
      "Train on 702 samples, validate on 298 samples\n",
      "Epoch 1/90\n",
      "702/702 [==============================] - 0s 615us/step - loss: 0.7975 - acc: 0.4288 - val_loss: 0.7412 - val_acc: 0.4866\n",
      "Epoch 2/90\n",
      "702/702 [==============================] - 0s 23us/step - loss: 0.7445 - acc: 0.4615 - val_loss: 0.7010 - val_acc: 0.5268\n",
      "Epoch 3/90\n",
      "702/702 [==============================] - 0s 34us/step - loss: 0.6976 - acc: 0.5598 - val_loss: 0.6687 - val_acc: 0.6443\n",
      "Epoch 4/90\n",
      "702/702 [==============================] - 0s 66us/step - loss: 0.6586 - acc: 0.6752 - val_loss: 0.6436 - val_acc: 0.6544\n",
      "Epoch 5/90\n",
      "702/702 [==============================] - 0s 49us/step - loss: 0.6241 - acc: 0.6909 - val_loss: 0.6254 - val_acc: 0.6644\n",
      "Epoch 6/90\n",
      "702/702 [==============================] - 0s 31us/step - loss: 0.6012 - acc: 0.6937 - val_loss: 0.6120 - val_acc: 0.6678\n",
      "Epoch 7/90\n",
      "702/702 [==============================] - 0s 33us/step - loss: 0.5812 - acc: 0.7037 - val_loss: 0.6029 - val_acc: 0.6644\n",
      "Epoch 8/90\n",
      "702/702 [==============================] - 0s 28us/step - loss: 0.5619 - acc: 0.7194 - val_loss: 0.5969 - val_acc: 0.6812\n",
      "Epoch 9/90\n",
      "702/702 [==============================] - 0s 32us/step - loss: 0.5478 - acc: 0.7194 - val_loss: 0.5927 - val_acc: 0.6980\n",
      "Epoch 10/90\n",
      "702/702 [==============================] - 0s 28us/step - loss: 0.5359 - acc: 0.7336 - val_loss: 0.5898 - val_acc: 0.7114\n",
      "Epoch 11/90\n",
      "702/702 [==============================] - 0s 36us/step - loss: 0.5305 - acc: 0.7350 - val_loss: 0.5884 - val_acc: 0.7081\n",
      "Epoch 12/90\n",
      "702/702 [==============================] - 0s 30us/step - loss: 0.5227 - acc: 0.7407 - val_loss: 0.5874 - val_acc: 0.7013\n",
      "Epoch 13/90\n",
      "702/702 [==============================] - 0s 30us/step - loss: 0.5156 - acc: 0.7464 - val_loss: 0.5868 - val_acc: 0.7047\n",
      "Epoch 14/90\n",
      "702/702 [==============================] - 0s 26us/step - loss: 0.5115 - acc: 0.7507 - val_loss: 0.5870 - val_acc: 0.7081\n",
      "Epoch 15/90\n",
      "702/702 [==============================] - 0s 25us/step - loss: 0.5053 - acc: 0.7536 - val_loss: 0.5875 - val_acc: 0.7081\n",
      "Epoch 16/90\n",
      "702/702 [==============================] - 0s 22us/step - loss: 0.5011 - acc: 0.7507 - val_loss: 0.5880 - val_acc: 0.7114\n",
      "Epoch 17/90\n",
      "702/702 [==============================] - 0s 41us/step - loss: 0.4979 - acc: 0.7564 - val_loss: 0.5882 - val_acc: 0.7114\n",
      "Epoch 18/90\n",
      "702/702 [==============================] - 0s 33us/step - loss: 0.4979 - acc: 0.7564 - val_loss: 0.5884 - val_acc: 0.7148\n",
      "Epoch 19/90\n",
      "702/702 [==============================] - 0s 44us/step - loss: 0.4955 - acc: 0.7607 - val_loss: 0.5890 - val_acc: 0.7148\n",
      "Epoch 20/90\n",
      "702/702 [==============================] - 0s 35us/step - loss: 0.4935 - acc: 0.7464 - val_loss: 0.5893 - val_acc: 0.7114\n",
      "Epoch 21/90\n",
      "702/702 [==============================] - 0s 26us/step - loss: 0.4883 - acc: 0.7564 - val_loss: 0.5898 - val_acc: 0.7114\n",
      "Epoch 22/90\n",
      "702/702 [==============================] - 0s 31us/step - loss: 0.4882 - acc: 0.7635 - val_loss: 0.5902 - val_acc: 0.7047\n",
      "Epoch 23/90\n",
      "702/702 [==============================] - 0s 32us/step - loss: 0.4890 - acc: 0.7607 - val_loss: 0.5908 - val_acc: 0.7215\n",
      "Epoch 24/90\n",
      "702/702 [==============================] - 0s 43us/step - loss: 0.4882 - acc: 0.7621 - val_loss: 0.5909 - val_acc: 0.7215\n",
      "Epoch 25/90\n",
      "702/702 [==============================] - 0s 30us/step - loss: 0.4875 - acc: 0.7593 - val_loss: 0.5910 - val_acc: 0.7181\n",
      "Epoch 26/90\n",
      "702/702 [==============================] - 0s 27us/step - loss: 0.4840 - acc: 0.7635 - val_loss: 0.5913 - val_acc: 0.7215\n",
      "Epoch 27/90\n",
      "702/702 [==============================] - 0s 21us/step - loss: 0.4857 - acc: 0.7578 - val_loss: 0.5920 - val_acc: 0.7215\n",
      "Epoch 28/90\n",
      "702/702 [==============================] - 0s 41us/step - loss: 0.4854 - acc: 0.7621 - val_loss: 0.5922 - val_acc: 0.7148\n",
      "Epoch 29/90\n",
      "702/702 [==============================] - 0s 33us/step - loss: 0.4826 - acc: 0.7664 - val_loss: 0.5927 - val_acc: 0.7181\n",
      "Epoch 30/90\n",
      "702/702 [==============================] - 0s 41us/step - loss: 0.4805 - acc: 0.7692 - val_loss: 0.5936 - val_acc: 0.7181\n",
      "Epoch 31/90\n",
      "702/702 [==============================] - 0s 29us/step - loss: 0.4807 - acc: 0.7749 - val_loss: 0.5935 - val_acc: 0.7181\n",
      "Epoch 32/90\n",
      "702/702 [==============================] - 0s 40us/step - loss: 0.4810 - acc: 0.7621 - val_loss: 0.5934 - val_acc: 0.7181\n",
      "Epoch 33/90\n",
      "702/702 [==============================] - 0s 29us/step - loss: 0.4791 - acc: 0.7692 - val_loss: 0.5936 - val_acc: 0.7181\n",
      "Epoch 34/90\n",
      "702/702 [==============================] - 0s 43us/step - loss: 0.4806 - acc: 0.7593 - val_loss: 0.5939 - val_acc: 0.7181\n",
      "Epoch 35/90\n",
      "702/702 [==============================] - 0s 50us/step - loss: 0.4792 - acc: 0.7678 - val_loss: 0.5940 - val_acc: 0.7181\n",
      "Epoch 36/90\n",
      "702/702 [==============================] - 0s 19us/step - loss: 0.4746 - acc: 0.7678 - val_loss: 0.5936 - val_acc: 0.7181\n",
      "Epoch 37/90\n",
      "702/702 [==============================] - 0s 28us/step - loss: 0.4768 - acc: 0.7821 - val_loss: 0.5929 - val_acc: 0.7181\n",
      "Epoch 38/90\n",
      "702/702 [==============================] - 0s 35us/step - loss: 0.4767 - acc: 0.7778 - val_loss: 0.5931 - val_acc: 0.7181\n",
      "Epoch 39/90\n",
      "702/702 [==============================] - 0s 29us/step - loss: 0.4739 - acc: 0.7692 - val_loss: 0.5936 - val_acc: 0.7282\n",
      "Epoch 40/90\n",
      "702/702 [==============================] - 0s 28us/step - loss: 0.4761 - acc: 0.7721 - val_loss: 0.5940 - val_acc: 0.7248\n",
      "Epoch 41/90\n",
      "702/702 [==============================] - 0s 26us/step - loss: 0.4734 - acc: 0.7721 - val_loss: 0.5941 - val_acc: 0.7282\n",
      "Epoch 42/90\n",
      "702/702 [==============================] - 0s 19us/step - loss: 0.4725 - acc: 0.7678 - val_loss: 0.5943 - val_acc: 0.7248\n",
      "Epoch 43/90\n",
      "702/702 [==============================] - 0s 23us/step - loss: 0.4725 - acc: 0.7735 - val_loss: 0.5944 - val_acc: 0.7248\n",
      "Epoch 44/90\n",
      "702/702 [==============================] - 0s 21us/step - loss: 0.4760 - acc: 0.7749 - val_loss: 0.5949 - val_acc: 0.7248\n",
      "Epoch 45/90\n",
      "702/702 [==============================] - 0s 23us/step - loss: 0.4727 - acc: 0.7778 - val_loss: 0.5945 - val_acc: 0.7248\n",
      "Epoch 46/90\n",
      "702/702 [==============================] - 0s 31us/step - loss: 0.4730 - acc: 0.7792 - val_loss: 0.5946 - val_acc: 0.7215\n",
      "Epoch 47/90\n",
      "702/702 [==============================] - 0s 25us/step - loss: 0.4734 - acc: 0.7635 - val_loss: 0.5947 - val_acc: 0.7215\n",
      "Epoch 48/90\n",
      "702/702 [==============================] - 0s 26us/step - loss: 0.4696 - acc: 0.7721 - val_loss: 0.5946 - val_acc: 0.7181\n",
      "Epoch 49/90\n",
      "702/702 [==============================] - 0s 22us/step - loss: 0.4715 - acc: 0.7692 - val_loss: 0.5942 - val_acc: 0.7181\n",
      "Epoch 50/90\n",
      "702/702 [==============================] - 0s 26us/step - loss: 0.4737 - acc: 0.7707 - val_loss: 0.5942 - val_acc: 0.7215\n",
      "Epoch 51/90\n",
      "702/702 [==============================] - 0s 26us/step - loss: 0.4715 - acc: 0.7764 - val_loss: 0.5938 - val_acc: 0.7248\n",
      "Epoch 52/90\n",
      "702/702 [==============================] - 0s 20us/step - loss: 0.4716 - acc: 0.7664 - val_loss: 0.5934 - val_acc: 0.7248\n",
      "Epoch 53/90\n",
      "702/702 [==============================] - 0s 28us/step - loss: 0.4694 - acc: 0.7735 - val_loss: 0.5938 - val_acc: 0.7282\n",
      "Epoch 54/90\n",
      "702/702 [==============================] - 0s 25us/step - loss: 0.4705 - acc: 0.7707 - val_loss: 0.5935 - val_acc: 0.7248\n",
      "Epoch 55/90\n",
      "702/702 [==============================] - 0s 23us/step - loss: 0.4677 - acc: 0.7778 - val_loss: 0.5933 - val_acc: 0.7215\n",
      "Epoch 56/90\n",
      "702/702 [==============================] - 0s 27us/step - loss: 0.4684 - acc: 0.7721 - val_loss: 0.5937 - val_acc: 0.7215\n",
      "Epoch 57/90\n",
      "702/702 [==============================] - 0s 25us/step - loss: 0.4678 - acc: 0.7749 - val_loss: 0.5941 - val_acc: 0.7248\n",
      "Epoch 58/90\n",
      "702/702 [==============================] - 0s 25us/step - loss: 0.4688 - acc: 0.7707 - val_loss: 0.5932 - val_acc: 0.7181\n",
      "Epoch 59/90\n",
      "702/702 [==============================] - 0s 25us/step - loss: 0.4692 - acc: 0.7778 - val_loss: 0.5929 - val_acc: 0.7181\n"
     ]
    },
    {
     "name": "stdout",
     "output_type": "stream",
     "text": [
      "Epoch 60/90\n",
      "702/702 [==============================] - 0s 22us/step - loss: 0.4655 - acc: 0.7707 - val_loss: 0.5930 - val_acc: 0.7248\n",
      "Epoch 61/90\n",
      "702/702 [==============================] - 0s 23us/step - loss: 0.4678 - acc: 0.7849 - val_loss: 0.5923 - val_acc: 0.7181\n",
      "Epoch 62/90\n",
      "702/702 [==============================] - 0s 17us/step - loss: 0.4672 - acc: 0.7764 - val_loss: 0.5933 - val_acc: 0.7215\n",
      "Epoch 63/90\n",
      "702/702 [==============================] - 0s 17us/step - loss: 0.4673 - acc: 0.7707 - val_loss: 0.5936 - val_acc: 0.7215\n",
      "Epoch 64/90\n",
      "702/702 [==============================] - 0s 19us/step - loss: 0.4641 - acc: 0.7735 - val_loss: 0.5936 - val_acc: 0.7215\n",
      "Epoch 65/90\n",
      "702/702 [==============================] - 0s 20us/step - loss: 0.4645 - acc: 0.7764 - val_loss: 0.5935 - val_acc: 0.7215\n",
      "Epoch 66/90\n",
      "702/702 [==============================] - 0s 19us/step - loss: 0.4667 - acc: 0.7806 - val_loss: 0.5934 - val_acc: 0.7181\n",
      "Epoch 67/90\n",
      "702/702 [==============================] - 0s 21us/step - loss: 0.4647 - acc: 0.7792 - val_loss: 0.5935 - val_acc: 0.7148\n",
      "Epoch 68/90\n",
      "702/702 [==============================] - 0s 25us/step - loss: 0.4651 - acc: 0.7735 - val_loss: 0.5928 - val_acc: 0.7148\n",
      "Epoch 69/90\n",
      "702/702 [==============================] - 0s 23us/step - loss: 0.4660 - acc: 0.7764 - val_loss: 0.5921 - val_acc: 0.7148\n",
      "Epoch 70/90\n",
      "702/702 [==============================] - 0s 21us/step - loss: 0.4651 - acc: 0.7692 - val_loss: 0.5917 - val_acc: 0.7181\n",
      "Epoch 71/90\n",
      "702/702 [==============================] - 0s 20us/step - loss: 0.4615 - acc: 0.7835 - val_loss: 0.5918 - val_acc: 0.7148\n",
      "Epoch 72/90\n",
      "702/702 [==============================] - 0s 20us/step - loss: 0.4616 - acc: 0.7778 - val_loss: 0.5926 - val_acc: 0.7248\n",
      "Epoch 73/90\n",
      "702/702 [==============================] - 0s 20us/step - loss: 0.4630 - acc: 0.7792 - val_loss: 0.5919 - val_acc: 0.7282\n",
      "Epoch 74/90\n",
      "702/702 [==============================] - 0s 22us/step - loss: 0.4658 - acc: 0.7792 - val_loss: 0.5912 - val_acc: 0.7282\n",
      "Epoch 75/90\n",
      "702/702 [==============================] - 0s 21us/step - loss: 0.4602 - acc: 0.7749 - val_loss: 0.5910 - val_acc: 0.7282\n",
      "Epoch 76/90\n",
      "702/702 [==============================] - 0s 18us/step - loss: 0.4593 - acc: 0.7806 - val_loss: 0.5913 - val_acc: 0.7282\n",
      "Epoch 77/90\n",
      "702/702 [==============================] - 0s 17us/step - loss: 0.4610 - acc: 0.7806 - val_loss: 0.5909 - val_acc: 0.7282\n",
      "Epoch 78/90\n",
      "702/702 [==============================] - 0s 21us/step - loss: 0.4621 - acc: 0.7735 - val_loss: 0.5901 - val_acc: 0.7315\n",
      "Epoch 79/90\n",
      "702/702 [==============================] - 0s 18us/step - loss: 0.4594 - acc: 0.7806 - val_loss: 0.5893 - val_acc: 0.7315\n",
      "Epoch 80/90\n",
      "702/702 [==============================] - 0s 19us/step - loss: 0.4610 - acc: 0.7821 - val_loss: 0.5906 - val_acc: 0.7248\n",
      "Epoch 81/90\n",
      "702/702 [==============================] - 0s 20us/step - loss: 0.4613 - acc: 0.7778 - val_loss: 0.5921 - val_acc: 0.7248\n",
      "Epoch 82/90\n",
      "702/702 [==============================] - 0s 19us/step - loss: 0.4623 - acc: 0.7707 - val_loss: 0.5918 - val_acc: 0.7248\n",
      "Epoch 83/90\n",
      "702/702 [==============================] - 0s 22us/step - loss: 0.4592 - acc: 0.7749 - val_loss: 0.5907 - val_acc: 0.7248\n",
      "Epoch 84/90\n",
      "702/702 [==============================] - 0s 22us/step - loss: 0.4603 - acc: 0.7735 - val_loss: 0.5908 - val_acc: 0.7248\n",
      "Epoch 85/90\n",
      "702/702 [==============================] - 0s 20us/step - loss: 0.4598 - acc: 0.7792 - val_loss: 0.5911 - val_acc: 0.7248\n",
      "Epoch 86/90\n",
      "702/702 [==============================] - 0s 22us/step - loss: 0.4567 - acc: 0.7806 - val_loss: 0.5911 - val_acc: 0.7248\n",
      "Epoch 87/90\n",
      "702/702 [==============================] - 0s 21us/step - loss: 0.4590 - acc: 0.7863 - val_loss: 0.5901 - val_acc: 0.7282\n",
      "Epoch 88/90\n",
      "702/702 [==============================] - 0s 17us/step - loss: 0.4585 - acc: 0.7806 - val_loss: 0.5895 - val_acc: 0.7282\n",
      "Epoch 89/90\n",
      "702/702 [==============================] - 0s 23us/step - loss: 0.4605 - acc: 0.7806 - val_loss: 0.5898 - val_acc: 0.7282\n",
      "Epoch 90/90\n",
      "702/702 [==============================] - 0s 22us/step - loss: 0.4585 - acc: 0.7778 - val_loss: 0.5889 - val_acc: 0.7315\n"
     ]
    }
   ],
   "source": [
    "history = model.fit(X_train_enc, y_train_enc,\n",
    "          batch_size=128,\n",
    "          epochs=90,\n",
    "          validation_data=(X_test_enc, y_test_enc), verbose=1)"
   ]
  },
  {
   "cell_type": "markdown",
   "metadata": {},
   "source": [
    "### Model accuracy"
   ]
  },
  {
   "cell_type": "code",
   "execution_count": 15,
   "metadata": {},
   "outputs": [
    {
     "name": "stdout",
     "output_type": "stream",
     "text": [
      "73.15436265612608\n"
     ]
    }
   ],
   "source": [
    "print(history.history['val_acc'][-1]*100)"
   ]
  },
  {
   "cell_type": "code",
   "execution_count": 16,
   "metadata": {},
   "outputs": [
    {
     "data": {
      "text/plain": [
       "[<matplotlib.lines.Line2D at 0x125d3d510>]"
      ]
     },
     "execution_count": 16,
     "metadata": {},
     "output_type": "execute_result"
    },
    {
     "data": {
      "image/png": "[encoded data removed]",
      "text/plain": [
       "<Figure size 432x288 with 1 Axes>"
      ]
     },
     "metadata": {
      "needs_background": "light"
     },
     "output_type": "display_data"
    }
   ],
   "source": [
    "plt.plot(history.history['val_acc'])"
   ]
  },
  {
   "cell_type": "code",
   "execution_count": 17,
   "metadata": {
    "scrolled": true
   },
   "outputs": [
    {
     "data": {
      "text/plain": [
       "[<matplotlib.lines.Line2D at 0x125e12a10>]"
      ]
     },
     "execution_count": 17,
     "metadata": {},
     "output_type": "execute_result"
    },
    {
     "data": {
      "image/png": "[encoded data removed]",
      "text/plain": [
       "<Figure size 432x288 with 1 Axes>"
      ]
     },
     "metadata": {
      "needs_background": "light"
     },
     "output_type": "display_data"
    }
   ],
   "source": [
    "plt.plot(history.history['loss'])"
   ]
  },
  {
   "cell_type": "markdown",
   "metadata": {},
   "source": [
    "# kNN Approach"
   ]
  },
  {
   "cell_type": "code",
   "execution_count": 18,
   "metadata": {},
   "outputs": [],
   "source": [
    "from sklearn.neighbors import KNeighborsClassifier"
   ]
  },
  {
   "cell_type": "code",
   "execution_count": 19,
   "metadata": {},
   "outputs": [],
   "source": [
    "neigh = KNeighborsClassifier(n_neighbors=15, weights='distance')"
   ]
  },
  {
   "cell_type": "code",
   "execution_count": 20,
   "metadata": {},
   "outputs": [
    {
     "data": {
      "text/plain": [
       "KNeighborsClassifier(algorithm='auto', leaf_size=30, metric='minkowski',\n",
       "                     metric_params=None, n_jobs=None, n_neighbors=15, p=2,\n",
       "                     weights='distance')"
      ]
     },
     "execution_count": 20,
     "metadata": {},
     "output_type": "execute_result"
    }
   ],
   "source": [
    "neigh.fit(X_train_enc, y_train_enc)"
   ]
  },
  {
   "cell_type": "code",
   "execution_count": 21,
   "metadata": {},
   "outputs": [],
   "source": [
    "y_pred = neigh.predict(X_test_enc)"
   ]
  },
  {
   "cell_type": "markdown",
   "metadata": {},
   "source": [
    "### Calculate model validation accuracy"
   ]
  },
  {
   "cell_type": "code",
   "execution_count": 22,
   "metadata": {},
   "outputs": [
    {
     "data": {
      "text/plain": [
       "0.7080536912751678"
      ]
     },
     "execution_count": 22,
     "metadata": {},
     "output_type": "execute_result"
    }
   ],
   "source": [
    "np.where(y_pred == y_test_enc)[0].shape[0]/y_test_enc.shape[0]"
   ]
  }
 ],
 "metadata": {
  "kernelspec": {
   "display_name": "Python 3",
   "language": "python",
   "name": "python3"
  },
  "language_info": {
   "codemirror_mode": {
    "name": "ipython",
    "version": 3
   },
   "file_extension": ".py",
   "mimetype": "text/x-python",
   "name": "python",
   "nbconvert_exporter": "python",
   "pygments_lexer": "ipython3",
   "version": "3.7.6"
  }
 },
 "nbformat": 4,
 "nbformat_minor": 2
}
