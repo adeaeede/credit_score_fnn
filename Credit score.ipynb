{
 "cells": [
  {
   "cell_type": "code",
   "execution_count": 260,
   "metadata": {},
   "outputs": [],
   "source": [
    "from keras.models import Sequential\n",
    "from keras.layers import Dense, Activation, BatchNormalization, Dropout\n",
    "from keras.optimizers import Adam\n",
    "from keras.losses import binary_crossentropy\n",
    "from sklearn.preprocessing import LabelEncoder, MinMaxScaler\n",
    "import numpy as np\n",
    "import matplotlib.pyplot as plt"
   ]
  },
  {
   "cell_type": "code",
   "execution_count": 261,
   "metadata": {},
   "outputs": [],
   "source": [
    "# Import data of type string from the train and test dataset \n",
    "data_train = np.loadtxt('training.txt', delimiter=' ', dtype=np.str, usecols=(0,1,3,4,6,7), skiprows=1)\n",
    "data_test = np.loadtxt('testing.txt', delimiter=' ', dtype=np.str, usecols=(0,1,3,4,6,7), skiprows=1)"
   ]
  },
  {
   "cell_type": "code",
   "execution_count": 262,
   "metadata": {},
   "outputs": [],
   "source": [
    "# Import numeric data from the train and test dataset\n",
    "data_train_num = np.loadtxt('training.txt', delimiter=' ', dtype=np.int, usecols=(2,5), skiprows=1)\n",
    "data_test_num = np.loadtxt('testing.txt', delimiter=' ', dtype=np.int, usecols=(2,5), skiprows=1)"
   ]
  },
  {
   "cell_type": "code",
   "execution_count": 266,
   "metadata": {},
   "outputs": [],
   "source": [
    "# Split x and y values\n",
    "x_train = data_train[:,1:]\n",
    "y_train = data_train[:,0]\n",
    "x_test = data_test[:,1:]\n",
    "y_test = data_test[:,0]"
   ]
  },
  {
   "cell_type": "code",
   "execution_count": 265,
   "metadata": {},
   "outputs": [
    {
     "name": "stdout",
     "output_type": "stream",
     "text": [
      "(702, 5)\n",
      "(702, 2)\n"
     ]
    }
   ],
   "source": [
    "print(x_train.shape)\n",
    "print(data_train_num.shape)"
   ]
  },
  {
   "cell_type": "code",
   "execution_count": 267,
   "metadata": {},
   "outputs": [],
   "source": [
    "# Normalize numeric values\n",
    "scaler = MinMaxScaler()\n",
    "data_train_num = scaler.fit_transform(data_train_num)\n",
    "data_test_num = scaler.fit_transform(data_test_num)"
   ]
  },
  {
   "cell_type": "code",
   "execution_count": 268,
   "metadata": {
    "scrolled": true
   },
   "outputs": [
    {
     "data": {
      "text/plain": [
       "{'\"bad.running\"': 0.44066255367086776,\n",
       " '\"good.running\"': 0.5634481726980438,\n",
       " '\"no\"': 1.121105221275482,\n",
       " '\"pre.bad\"': 0.1912730854004171,\n",
       " '\"pre.good\"': 2.228995487816058,\n",
       " '\"personal\"': 0.5765152188436177,\n",
       " '\"professional\"': 0.6845505306282164,\n",
       " '\"man\"': 0.3247575325953141,\n",
       " '\"woman\"': 0.45903846618915994,\n",
       " '\"alone\"': 1.0587937955073752,\n",
       " '\"not.alone\"': 0.5066821875380998}"
      ]
     },
     "execution_count": 268,
     "metadata": {},
     "output_type": "execute_result"
    }
   ],
   "source": [
    "# Assign a positive float value to each category\n",
    "categories = [list(np.unique(x_train[:,i])) for i in range(x_train.shape[1])]\n",
    "a = dict()\n",
    "for category in categories:\n",
    "    for c in category:\n",
    "        a[c] = np.abs(np.random.normal(0,1))\n",
    "a"
   ]
  },
  {
   "cell_type": "code",
   "execution_count": 270,
   "metadata": {},
   "outputs": [],
   "source": [
    "# Encode categories to floats\n",
    "def prepare_input(X):\n",
    "    X_enc = np.ones((X.shape[0], X.shape[1]))\n",
    "    for i in range(X.shape[1]):\n",
    "        for key, value in a.items():\n",
    "            mask = np.where(X[:,i] == key)\n",
    "            X_enc[mask,i] = value\n",
    "    return X_enc"
   ]
  },
  {
   "cell_type": "code",
   "execution_count": 269,
   "metadata": {},
   "outputs": [],
   "source": [
    "# encode y values to binary\n",
    "def prepare_targets(y_train, y_test):\n",
    "    le = LabelEncoder()\n",
    "    le.fit(y_train)\n",
    "    y_train_enc = le.transform(y_train)\n",
    "    y_test_enc = le.transform(y_test)\n",
    "    return y_train_enc, y_test_enc"
   ]
  },
  {
   "cell_type": "code",
   "execution_count": 271,
   "metadata": {},
   "outputs": [],
   "source": [
    "X_train_enc = prepare_input(x_train)\n",
    "X_test_enc = prepare_input(x_test)\n",
    "y_train_enc, y_test_enc = prepare_targets(y_train, y_test)"
   ]
  },
  {
   "cell_type": "code",
   "execution_count": 272,
   "metadata": {},
   "outputs": [
    {
     "name": "stdout",
     "output_type": "stream",
     "text": [
      "(702, 5)\n",
      "(702, 2)\n"
     ]
    }
   ],
   "source": [
    "print(X_train_enc.shape)\n",
    "print(data_train_num.shape)"
   ]
  },
  {
   "cell_type": "code",
   "execution_count": 273,
   "metadata": {},
   "outputs": [],
   "source": [
    "# Stack the categorical and numerical data\n",
    "X_train_enc = np.column_stack((X_train_enc,data_train_num))\n",
    "X_test_enc =  np.column_stack((X_test_enc,data_test_num))"
   ]
  },
  {
   "cell_type": "code",
   "execution_count": 274,
   "metadata": {},
   "outputs": [
    {
     "name": "stdout",
     "output_type": "stream",
     "text": [
      "(702, 7)\n",
      "(298, 7)\n"
     ]
    }
   ],
   "source": [
    "print(X_train_enc.shape)\n",
    "print(X_test_enc.shape)"
   ]
  },
  {
   "cell_type": "code",
   "execution_count": 282,
   "metadata": {},
   "outputs": [],
   "source": [
    "model = Sequential([\n",
    "    Dense(32, kernel_initializer='glorot_normal'),\n",
    "    BatchNormalization(),\n",
    "    Activation('relu'),\n",
    "    Dense(1, activation='sigmoid')\n",
    "])"
   ]
  },
  {
   "cell_type": "code",
   "execution_count": 283,
   "metadata": {},
   "outputs": [],
   "source": [
    "model.compile(loss='binary_crossentropy',\n",
    "              optimizer='adam',\n",
    "              metrics=['accuracy'])"
   ]
  },
  {
   "cell_type": "code",
   "execution_count": 284,
   "metadata": {},
   "outputs": [
    {
     "name": "stdout",
     "output_type": "stream",
     "text": [
      "Train on 702 samples, validate on 298 samples\n",
      "Epoch 1/60\n",
      "702/702 [==============================] - 2s 3ms/step - loss: 1.1516 - acc: 0.2678 - val_loss: 1.0655 - val_acc: 0.3087\n",
      "Epoch 2/60\n",
      "702/702 [==============================] - 0s 41us/step - loss: 1.0936 - acc: 0.2607 - val_loss: 1.0485 - val_acc: 0.3087\n",
      "Epoch 3/60\n",
      "702/702 [==============================] - 0s 78us/step - loss: 1.0360 - acc: 0.2664 - val_loss: 1.0292 - val_acc: 0.3087\n",
      "Epoch 4/60\n",
      "702/702 [==============================] - 0s 37us/step - loss: 0.9900 - acc: 0.2650 - val_loss: 1.0080 - val_acc: 0.3121\n",
      "Epoch 5/60\n",
      "702/702 [==============================] - 0s 44us/step - loss: 0.9410 - acc: 0.2678 - val_loss: 0.9830 - val_acc: 0.3087\n",
      "Epoch 6/60\n",
      "702/702 [==============================] - 0s 62us/step - loss: 0.8949 - acc: 0.2678 - val_loss: 0.9650 - val_acc: 0.3121\n",
      "Epoch 7/60\n",
      "702/702 [==============================] - 0s 47us/step - loss: 0.8609 - acc: 0.2721 - val_loss: 0.9410 - val_acc: 0.3087\n",
      "Epoch 8/60\n",
      "702/702 [==============================] - 0s 37us/step - loss: 0.8327 - acc: 0.2806 - val_loss: 0.9177 - val_acc: 0.3087\n",
      "Epoch 9/60\n",
      "702/702 [==============================] - 0s 47us/step - loss: 0.7962 - acc: 0.3091 - val_loss: 0.8977 - val_acc: 0.3188\n",
      "Epoch 10/60\n",
      "702/702 [==============================] - 0s 65us/step - loss: 0.7766 - acc: 0.3319 - val_loss: 0.8814 - val_acc: 0.3188\n",
      "Epoch 11/60\n",
      "702/702 [==============================] - 0s 64us/step - loss: 0.7508 - acc: 0.4088 - val_loss: 0.8626 - val_acc: 0.3255\n",
      "Epoch 12/60\n",
      "702/702 [==============================] - 0s 45us/step - loss: 0.7309 - acc: 0.4872 - val_loss: 0.8464 - val_acc: 0.3289\n",
      "Epoch 13/60\n",
      "702/702 [==============================] - 0s 51us/step - loss: 0.7128 - acc: 0.5256 - val_loss: 0.8324 - val_acc: 0.3255\n",
      "Epoch 14/60\n",
      "702/702 [==============================] - 0s 43us/step - loss: 0.6978 - acc: 0.5726 - val_loss: 0.8190 - val_acc: 0.3289\n",
      "Epoch 15/60\n",
      "702/702 [==============================] - 0s 50us/step - loss: 0.6828 - acc: 0.6083 - val_loss: 0.8054 - val_acc: 0.3255\n",
      "Epoch 16/60\n",
      "702/702 [==============================] - 0s 53us/step - loss: 0.6685 - acc: 0.6282 - val_loss: 0.7942 - val_acc: 0.3289\n",
      "Epoch 17/60\n",
      "702/702 [==============================] - 0s 52us/step - loss: 0.6536 - acc: 0.6652 - val_loss: 0.7830 - val_acc: 0.3389\n",
      "Epoch 18/60\n",
      "702/702 [==============================] - 0s 34us/step - loss: 0.6440 - acc: 0.6724 - val_loss: 0.7725 - val_acc: 0.3523\n",
      "Epoch 19/60\n",
      "702/702 [==============================] - 0s 40us/step - loss: 0.6352 - acc: 0.6852 - val_loss: 0.7629 - val_acc: 0.3490\n",
      "Epoch 20/60\n",
      "702/702 [==============================] - 0s 47us/step - loss: 0.6289 - acc: 0.6937 - val_loss: 0.7547 - val_acc: 0.3658\n",
      "Epoch 21/60\n",
      "702/702 [==============================] - 0s 43us/step - loss: 0.6193 - acc: 0.7023 - val_loss: 0.7465 - val_acc: 0.3960\n",
      "Epoch 22/60\n",
      "702/702 [==============================] - 0s 43us/step - loss: 0.6068 - acc: 0.7151 - val_loss: 0.7391 - val_acc: 0.4128\n",
      "Epoch 23/60\n",
      "702/702 [==============================] - 0s 50us/step - loss: 0.6015 - acc: 0.7222 - val_loss: 0.7308 - val_acc: 0.4295\n",
      "Epoch 24/60\n",
      "702/702 [==============================] - 0s 45us/step - loss: 0.5957 - acc: 0.7236 - val_loss: 0.7228 - val_acc: 0.4329\n",
      "Epoch 25/60\n",
      "702/702 [==============================] - 0s 49us/step - loss: 0.5882 - acc: 0.7265 - val_loss: 0.7161 - val_acc: 0.4698\n",
      "Epoch 26/60\n",
      "702/702 [==============================] - 0s 50us/step - loss: 0.5835 - acc: 0.7322 - val_loss: 0.7084 - val_acc: 0.4966\n",
      "Epoch 27/60\n",
      "702/702 [==============================] - 0s 47us/step - loss: 0.5774 - acc: 0.7265 - val_loss: 0.7022 - val_acc: 0.5168\n",
      "Epoch 28/60\n",
      "702/702 [==============================] - 0s 46us/step - loss: 0.5724 - acc: 0.7322 - val_loss: 0.6968 - val_acc: 0.5336\n",
      "Epoch 29/60\n",
      "702/702 [==============================] - 0s 45us/step - loss: 0.5701 - acc: 0.7236 - val_loss: 0.6912 - val_acc: 0.5537\n",
      "Epoch 30/60\n",
      "702/702 [==============================] - 0s 38us/step - loss: 0.5648 - acc: 0.7308 - val_loss: 0.6863 - val_acc: 0.5705\n",
      "Epoch 31/60\n",
      "702/702 [==============================] - 0s 34us/step - loss: 0.5587 - acc: 0.7336 - val_loss: 0.6801 - val_acc: 0.6040\n",
      "Epoch 32/60\n",
      "702/702 [==============================] - 0s 38us/step - loss: 0.5543 - acc: 0.7308 - val_loss: 0.6738 - val_acc: 0.6342\n",
      "Epoch 33/60\n",
      "702/702 [==============================] - 0s 41us/step - loss: 0.5522 - acc: 0.7322 - val_loss: 0.6680 - val_acc: 0.6409\n",
      "Epoch 34/60\n",
      "702/702 [==============================] - 0s 45us/step - loss: 0.5537 - acc: 0.7279 - val_loss: 0.6642 - val_acc: 0.6510\n",
      "Epoch 35/60\n",
      "702/702 [==============================] - 0s 47us/step - loss: 0.5499 - acc: 0.7350 - val_loss: 0.6596 - val_acc: 0.6644\n",
      "Epoch 36/60\n",
      "702/702 [==============================] - 0s 44us/step - loss: 0.5440 - acc: 0.7436 - val_loss: 0.6532 - val_acc: 0.6779\n",
      "Epoch 37/60\n",
      "702/702 [==============================] - 0s 47us/step - loss: 0.5443 - acc: 0.7407 - val_loss: 0.6480 - val_acc: 0.6779\n",
      "Epoch 38/60\n",
      "702/702 [==============================] - 0s 48us/step - loss: 0.5410 - acc: 0.7350 - val_loss: 0.6410 - val_acc: 0.6745\n",
      "Epoch 39/60\n",
      "702/702 [==============================] - 0s 35us/step - loss: 0.5404 - acc: 0.7422 - val_loss: 0.6355 - val_acc: 0.6879\n",
      "Epoch 40/60\n",
      "702/702 [==============================] - 0s 49us/step - loss: 0.5362 - acc: 0.7379 - val_loss: 0.6312 - val_acc: 0.6846\n",
      "Epoch 41/60\n",
      "702/702 [==============================] - 0s 42us/step - loss: 0.5332 - acc: 0.7450 - val_loss: 0.6274 - val_acc: 0.6879\n",
      "Epoch 42/60\n",
      "702/702 [==============================] - 0s 49us/step - loss: 0.5340 - acc: 0.7464 - val_loss: 0.6238 - val_acc: 0.6913\n",
      "Epoch 43/60\n",
      "702/702 [==============================] - 0s 53us/step - loss: 0.5302 - acc: 0.7507 - val_loss: 0.6196 - val_acc: 0.6980\n",
      "Epoch 44/60\n",
      "702/702 [==============================] - 0s 43us/step - loss: 0.5323 - acc: 0.7464 - val_loss: 0.6169 - val_acc: 0.6980\n",
      "Epoch 45/60\n",
      "702/702 [==============================] - 0s 37us/step - loss: 0.5309 - acc: 0.7407 - val_loss: 0.6139 - val_acc: 0.7013\n",
      "Epoch 46/60\n",
      "702/702 [==============================] - 0s 36us/step - loss: 0.5283 - acc: 0.7464 - val_loss: 0.6119 - val_acc: 0.7047\n",
      "Epoch 47/60\n",
      "702/702 [==============================] - 0s 41us/step - loss: 0.5308 - acc: 0.7507 - val_loss: 0.6095 - val_acc: 0.7081\n",
      "Epoch 48/60\n",
      "702/702 [==============================] - 0s 37us/step - loss: 0.5299 - acc: 0.7507 - val_loss: 0.6063 - val_acc: 0.7081\n",
      "Epoch 49/60\n",
      "702/702 [==============================] - 0s 35us/step - loss: 0.5263 - acc: 0.7464 - val_loss: 0.6040 - val_acc: 0.7081\n",
      "Epoch 50/60\n",
      "702/702 [==============================] - 0s 29us/step - loss: 0.5254 - acc: 0.7550 - val_loss: 0.6024 - val_acc: 0.7081\n",
      "Epoch 51/60\n",
      "702/702 [==============================] - 0s 35us/step - loss: 0.5248 - acc: 0.7550 - val_loss: 0.5992 - val_acc: 0.7013\n",
      "Epoch 52/60\n",
      "702/702 [==============================] - 0s 30us/step - loss: 0.5234 - acc: 0.7507 - val_loss: 0.5975 - val_acc: 0.7047\n",
      "Epoch 53/60\n",
      "702/702 [==============================] - 0s 37us/step - loss: 0.5182 - acc: 0.7607 - val_loss: 0.5967 - val_acc: 0.7081\n",
      "Epoch 54/60\n",
      "702/702 [==============================] - 0s 31us/step - loss: 0.5232 - acc: 0.7593 - val_loss: 0.5950 - val_acc: 0.7081\n",
      "Epoch 55/60\n",
      "702/702 [==============================] - 0s 47us/step - loss: 0.5193 - acc: 0.7564 - val_loss: 0.5942 - val_acc: 0.7081\n",
      "Epoch 56/60\n",
      "702/702 [==============================] - 0s 45us/step - loss: 0.5207 - acc: 0.7507 - val_loss: 0.5934 - val_acc: 0.7081\n",
      "Epoch 57/60\n",
      "702/702 [==============================] - 0s 38us/step - loss: 0.5201 - acc: 0.7578 - val_loss: 0.5923 - val_acc: 0.7047\n",
      "Epoch 58/60\n",
      "702/702 [==============================] - 0s 34us/step - loss: 0.5190 - acc: 0.7635 - val_loss: 0.5911 - val_acc: 0.7013\n",
      "Epoch 59/60\n",
      "702/702 [==============================] - 0s 36us/step - loss: 0.5185 - acc: 0.7578 - val_loss: 0.5901 - val_acc: 0.7013\n",
      "Epoch 60/60\n",
      "702/702 [==============================] - 0s 31us/step - loss: 0.5168 - acc: 0.7593 - val_loss: 0.5883 - val_acc: 0.7114\n"
     ]
    }
   ],
   "source": [
    "history = model.fit(X_train_enc, y_train_enc,\n",
    "          batch_size=128,\n",
    "          epochs=60,\n",
    "          validation_data=(X_test_enc, y_test_enc), verbose=1)"
   ]
  },
  {
   "cell_type": "code",
   "execution_count": 285,
   "metadata": {},
   "outputs": [
    {
     "data": {
      "text/plain": [
       "[<matplotlib.lines.Line2D at 0x144704990>]"
      ]
     },
     "execution_count": 285,
     "metadata": {},
     "output_type": "execute_result"
    },
    {
     "data": {
      "image/png": "[encoded data removed]",
      "text/plain": [
       "<Figure size 432x288 with 1 Axes>"
      ]
     },
     "metadata": {
      "needs_background": "light"
     },
     "output_type": "display_data"
    }
   ],
   "source": [
    "plt.plot(history.history['val_acc'])"
   ]
  },
  {
   "cell_type": "code",
   "execution_count": 286,
   "metadata": {},
   "outputs": [
    {
     "data": {
      "text/plain": [
       "[<matplotlib.lines.Line2D at 0x144773990>]"
      ]
     },
     "execution_count": 286,
     "metadata": {},
     "output_type": "execute_result"
    },
    {
     "data": {
      "image/png": "[encoded data removed]",
      "text/plain": [
       "<Figure size 432x288 with 1 Axes>"
      ]
     },
     "metadata": {
      "needs_background": "light"
     },
     "output_type": "display_data"
    }
   ],
   "source": [
    "plt.plot(history.history['loss'])"
   ]
  },
  {
   "cell_type": "code",
   "execution_count": null,
   "metadata": {},
   "outputs": [],
   "source": []
  }
 ],
 "metadata": {
  "kernelspec": {
   "display_name": "Python 3",
   "language": "python",
   "name": "python3"
  },
  "language_info": {
   "codemirror_mode": {
    "name": "ipython",
    "version": 3
   },
   "file_extension": ".py",
   "mimetype": "text/x-python",
   "name": "python",
   "nbconvert_exporter": "python",
   "pygments_lexer": "ipython3",
   "version": "3.7.6"
  }
 },
 "nbformat": 4,
 "nbformat_minor": 2
}
